{
 "cells": [
  {
   "cell_type": "code",
   "execution_count": 1,
   "metadata": {},
   "outputs": [],
   "source": [
    "import torch\n",
    "import torch.nn as nn\n",
    "import numpy as np\n",
    "import matplotlib.pyplot as plt"
   ]
  },
  {
   "cell_type": "code",
   "execution_count": 2,
   "metadata": {},
   "outputs": [],
   "source": [
    "# N = number of samples\n",
    "# T = number of time steps\n",
    "# D = number of input features\n",
    "# M = number of hidden units\n",
    "# K = number of output units"
   ]
  },
  {
   "cell_type": "code",
   "execution_count": 3,
   "metadata": {},
   "outputs": [],
   "source": [
    "# Make some data\n",
    "N = 1\n",
    "T = 10\n",
    "D = 3\n",
    "M = 5\n",
    "K = 2\n",
    "X = np.random.randn(N, T, D)"
   ]
  },
  {
   "cell_type": "code",
   "execution_count": 4,
   "metadata": {},
   "outputs": [],
   "source": [
    "# Make an RNN\n",
    "class SimpleRNN(nn.Module):\n",
    "    def __init__(self, n_inputs, n_hidden, n_outputs):\n",
    "        super(SimpleRNN, self).__init__()\n",
    "        self.D = n_inputs\n",
    "        self.M = n_hidden\n",
    "        self.K = n_outputs\n",
    "        self.rnn = nn.RNN(\n",
    "            input_size=self.D,\n",
    "            hidden_size=self.M,\n",
    "            nonlinearity='tanh',\n",
    "            batch_first=True\n",
    "        )\n",
    "        self.fc = nn.Linear(self.M, self.K)\n",
    "\n",
    "    def forward(self, X):\n",
    "        # initial hidden state \n",
    "        h0 = torch.zeros(1, X.size(0), self.M)\n",
    "\n",
    "        # get RNN unit output\n",
    "        out, _ = self.rnn(X, h0)\n",
    "        \n",
    "        # we only want h(T) at the final time step\n",
    "        # out = self.fc(out[:, -1, :])\n",
    "        out = self.fc(out)\n",
    "        return out"
   ]
  },
  {
   "cell_type": "code",
   "execution_count": 5,
   "metadata": {},
   "outputs": [],
   "source": [
    "# Instantiate the model\n",
    "model = SimpleRNN(n_inputs=D, n_hidden=M, n_outputs=K)"
   ]
  },
  {
   "cell_type": "code",
   "execution_count": 6,
   "metadata": {},
   "outputs": [
    {
     "data": {
      "text/plain": [
       "tensor([[[ 0.0594,  0.6624],\n",
       "         [-0.2094,  0.2945],\n",
       "         [-0.0305,  0.2726],\n",
       "         [ 0.2447, -0.1394],\n",
       "         [ 0.3073,  0.0435],\n",
       "         [ 0.0526,  0.5712],\n",
       "         [-0.0967,  0.2954],\n",
       "         [ 0.1235,  0.3925],\n",
       "         [ 0.2174, -0.0390],\n",
       "         [ 0.1057,  0.0733]]], grad_fn=<ViewBackward0>)"
      ]
     },
     "execution_count": 6,
     "metadata": {},
     "output_type": "execute_result"
    }
   ],
   "source": [
    "# Get the output\n",
    "inputs = torch.from_numpy(X.astype(np.float32))\n",
    "out = model(inputs)\n",
    "out"
   ]
  },
  {
   "cell_type": "code",
   "execution_count": 7,
   "metadata": {},
   "outputs": [
    {
     "data": {
      "text/plain": [
       "torch.Size([1, 10, 2])"
      ]
     },
     "execution_count": 7,
     "metadata": {},
     "output_type": "execute_result"
    }
   ],
   "source": [
    "out.shape"
   ]
  },
  {
   "cell_type": "code",
   "execution_count": 8,
   "metadata": {},
   "outputs": [],
   "source": [
    "# Save for later\n",
    "Yhats_torch = out.detach().numpy()"
   ]
  },
  {
   "cell_type": "code",
   "execution_count": 9,
   "metadata": {},
   "outputs": [],
   "source": [
    "W_xh, W_hh, b_xh, b_hh = model.rnn.parameters()"
   ]
  },
  {
   "cell_type": "code",
   "execution_count": 10,
   "metadata": {},
   "outputs": [
    {
     "data": {
      "text/plain": [
       "torch.Size([5, 3])"
      ]
     },
     "execution_count": 10,
     "metadata": {},
     "output_type": "execute_result"
    }
   ],
   "source": [
    "W_xh.shape"
   ]
  },
  {
   "cell_type": "code",
   "execution_count": 11,
   "metadata": {},
   "outputs": [
    {
     "data": {
      "text/plain": [
       "Parameter containing:\n",
       "tensor([[-0.3397,  0.3435,  0.1187],\n",
       "        [ 0.1922, -0.0545, -0.3062],\n",
       "        [-0.3581,  0.2287,  0.4450],\n",
       "        [ 0.4157,  0.0435, -0.3450],\n",
       "        [ 0.2186, -0.0077,  0.0156]], requires_grad=True)"
      ]
     },
     "execution_count": 11,
     "metadata": {},
     "output_type": "execute_result"
    }
   ],
   "source": [
    "W_xh"
   ]
  },
  {
   "cell_type": "code",
   "execution_count": 12,
   "metadata": {},
   "outputs": [
    {
     "data": {
      "text/plain": [
       "array([[-0.33971268,  0.34349126,  0.1186657 ],\n",
       "       [ 0.19223738, -0.05445626, -0.30618227],\n",
       "       [-0.35814863,  0.22867501,  0.44498515],\n",
       "       [ 0.41572154,  0.04352179, -0.3450039 ],\n",
       "       [ 0.21860707, -0.00772166,  0.01560703]], dtype=float32)"
      ]
     },
     "execution_count": 12,
     "metadata": {},
     "output_type": "execute_result"
    }
   ],
   "source": [
    "W_xh = W_xh.data.numpy()\n",
    "W_xh"
   ]
  },
  {
   "cell_type": "code",
   "execution_count": 13,
   "metadata": {},
   "outputs": [],
   "source": [
    "b_xh = b_xh.data.numpy()\n",
    "W_hh = W_hh.data.numpy()\n",
    "b_hh = b_hh.data.numpy()"
   ]
  },
  {
   "cell_type": "code",
   "execution_count": 14,
   "metadata": {},
   "outputs": [
    {
     "data": {
      "text/plain": [
       "((5, 3), (5, 5), (5,), (5,))"
      ]
     },
     "execution_count": 14,
     "metadata": {},
     "output_type": "execute_result"
    }
   ],
   "source": [
    "# Did we do it right?\n",
    "W_xh.shape, W_hh.shape, b_xh.shape, b_hh.shape"
   ]
  },
  {
   "cell_type": "code",
   "execution_count": 15,
   "metadata": {},
   "outputs": [],
   "source": [
    "# Now get the FC layer weights\n",
    "Wo, bo = model.fc.parameters()"
   ]
  },
  {
   "cell_type": "code",
   "execution_count": 16,
   "metadata": {},
   "outputs": [
    {
     "data": {
      "text/plain": [
       "((2, 5), (2,))"
      ]
     },
     "execution_count": 16,
     "metadata": {},
     "output_type": "execute_result"
    }
   ],
   "source": [
    "Wo = Wo.data.numpy()\n",
    "bo = bo.data.numpy()\n",
    "Wo.shape, bo.shape"
   ]
  },
  {
   "cell_type": "code",
   "execution_count": 17,
   "metadata": {},
   "outputs": [
    {
     "name": "stdout",
     "output_type": "stream",
     "text": [
      "[[ 0.05942239  0.66240166]\n",
      " [-0.20939252  0.29454571]\n",
      " [-0.03054577  0.27260296]\n",
      " [ 0.24468671 -0.13937344]\n",
      " [ 0.3072928   0.04351277]\n",
      " [ 0.05255175  0.57117018]\n",
      " [-0.09668414  0.29539873]\n",
      " [ 0.12345423  0.39252538]\n",
      " [ 0.21744961 -0.03899946]\n",
      " [ 0.10572217  0.07325389]]\n"
     ]
    }
   ],
   "source": [
    "# See if we can replicate the output\n",
    "h_last = np.zeros(M) # initial hidden state\n",
    "x = X[0] # only one sample\n",
    "Yhats = np.zeros((T, K)) # where we store the outputs\n",
    "\n",
    "for t in range(T):\n",
    "    h = np.tanh(x[t].dot(W_xh.T) + b_xh + h_last.dot(W_hh.T) + b_hh)\n",
    "    y = h.dot(Wo.T) + bo # we only care about this value on the last iteration\n",
    "    Yhats[t] = y\n",
    "\n",
    "    # important:\n",
    "    h_last = h\n",
    "\n",
    "# print the final output\n",
    "print(Yhats)"
   ]
  },
  {
   "cell_type": "code",
   "execution_count": 18,
   "metadata": {},
   "outputs": [
    {
     "data": {
      "text/plain": [
       "True"
      ]
     },
     "execution_count": 18,
     "metadata": {},
     "output_type": "execute_result"
    }
   ],
   "source": [
    "# Check \n",
    "np.allclose(Yhats, Yhats_torch)"
   ]
  },
  {
   "cell_type": "code",
   "execution_count": null,
   "metadata": {},
   "outputs": [],
   "source": []
  }
 ],
 "metadata": {
  "kernelspec": {
   "display_name": "Python 3.10.7 64-bit",
   "language": "python",
   "name": "python3"
  },
  "language_info": {
   "codemirror_mode": {
    "name": "ipython",
    "version": 3
   },
   "file_extension": ".py",
   "mimetype": "text/x-python",
   "name": "python",
   "nbconvert_exporter": "python",
   "pygments_lexer": "ipython3",
   "version": "3.10.7"
  },
  "orig_nbformat": 4,
  "vscode": {
   "interpreter": {
    "hash": "369f2c481f4da34e4445cda3fffd2e751bd1c4d706f27375911949ba6bb62e1c"
   }
  }
 },
 "nbformat": 4,
 "nbformat_minor": 2
}
